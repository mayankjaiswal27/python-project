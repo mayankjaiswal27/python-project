{
 "cells": [
  {
   "cell_type": "code",
   "execution_count": 1,
   "id": "0ef4f0cf",
   "metadata": {},
   "outputs": [],
   "source": [
    "processed_orders=[1152, 1154, 1155, 1156, 1157, 1160, 1161, 1162, 1166, 1169, 1170,\n",
    "1172, 1176, 1050, 1178, 1051, 1052, 1054, 1058, 1060, 1061, 1062, 1065, 1066, 1067,\n",
    "1068, 1069, 1076, 1077, 1080, 1081, 1083, 1091, 1085, 1088, 1089, 1131, 1092, 1094,\n",
    "1095, 1099, 1102, 1103, 1104, 1106, 1107, 1108, 1109, 1111, 1117, 1119, 1121, 1150,\n",
    "1128, 1129, 1136, 1137, 1139, 1140, 1141, 1144, 1148, 1124] "
   ]
  },
  {
   "cell_type": "code",
   "execution_count": 2,
   "id": "d9d35a96",
   "metadata": {},
   "outputs": [],
   "source": [
    "returned_orders=[1153, 1158, 1159, 1163, 1164, 1165, 1167, 1168, 1171, 1173, 1174,\n",
    "1175, 1177, 1053, 1055, 1056, 1057, 1059, 1063, 1064, 1070, 1071, 1072, 1073, 1074,\n",
    "1075, 1078, 1079, 1082, 1084, 1086, 1087, 1090, 1093, 1096, 1097, 1098, 1100, 1101,\n",
    "1105, 1110, 1112, 1113, 1114, 1115, 1116, 1118, 1120, 1122, 1123, 1125, 1126, 1127,\n",
    "1130, 1132, 1133, 1134, 1135, 1138, 1142, 1143, 1145, 1146, 1147, 1149, 1151]"
   ]
  },
  {
   "cell_type": "code",
   "execution_count": 9,
   "id": "8d180e8c",
   "metadata": {},
   "outputs": [],
   "source": [
    "total=[]\n",
    "total=processed_orders+returned_orders"
   ]
  },
  {
   "cell_type": "code",
   "execution_count": 10,
   "id": "ab3a18cf",
   "metadata": {},
   "outputs": [
    {
     "name": "stdout",
     "output_type": "stream",
     "text": [
      "The total number of order is 129\n"
     ]
    }
   ],
   "source": [
    "print(f\"The total number of order is {len(total)}\")"
   ]
  },
  {
   "cell_type": "code",
   "execution_count": 11,
   "id": "bfcfedc6",
   "metadata": {},
   "outputs": [],
   "source": [
    "total.sort()"
   ]
  },
  {
   "cell_type": "code",
   "execution_count": 15,
   "id": "ddb6b882",
   "metadata": {},
   "outputs": [
    {
     "data": {
      "text/plain": [
       "1099"
      ]
     },
     "execution_count": 15,
     "metadata": {},
     "output_type": "execute_result"
    }
   ],
   "source": [
    "res=total[49]\n",
    "res"
   ]
  },
  {
   "cell_type": "code",
   "execution_count": 22,
   "id": "c152c58f",
   "metadata": {},
   "outputs": [
    {
     "name": "stdout",
     "output_type": "stream",
     "text": [
      "Order no. 50: It is a processed order.\n"
     ]
    }
   ],
   "source": [
    "def type_order(res):\n",
    "    if res in processed_orders:\n",
    "        return(\"It is a processed order.\")\n",
    "    else:\n",
    "        return(\"It is a returned order.\")\n",
    "print(f\"Order no. 50: {type_order(res)}\")"
   ]
  },
  {
   "cell_type": "code",
   "execution_count": 24,
   "id": "c8e95c1f",
   "metadata": {},
   "outputs": [],
   "source": [
    "processed_orders.sort()"
   ]
  },
  {
   "cell_type": "code",
   "execution_count": 27,
   "id": "5bb3c7cd",
   "metadata": {},
   "outputs": [
    {
     "name": "stdout",
     "output_type": "stream",
     "text": [
      "The last processed order is: 1178\n"
     ]
    }
   ],
   "source": [
    "print(f\"The last processed order is: {processed_orders[len(processed_orders)-1]}\")"
   ]
  },
  {
   "cell_type": "code",
   "execution_count": 28,
   "id": "990e64a8",
   "metadata": {},
   "outputs": [
    {
     "name": "stdout",
     "output_type": "stream",
     "text": [
      "The first 4 orders are: 1050, 1051, 1052, 1054\n"
     ]
    }
   ],
   "source": [
    "print(f\"The first 4 orders are: {processed_orders[0]}, {processed_orders[1]}, {processed_orders[2]}, {processed_orders[3]}\")"
   ]
  },
  {
   "cell_type": "code",
   "execution_count": 29,
   "id": "a954b15f",
   "metadata": {},
   "outputs": [],
   "source": [
    "number = [8, 9, 9, 1, 6, 9, 5, 7, 3, 9, 7, 3, 4, 8, 3, 5, 8, 4, 8, 7, 5, 7, 3, 6, 1, 2, 7, 4, 7, 7, 8,\n",
    "4, 3, 4, 2, 2, 2, 7, 3, 5, 6, 1, 1, 3, 2, 1, 1, 7, 7, 1, 4, 4, 5, 6, 1, 2, 7, 4, 5, 8, 1, 4, 8, 6, 2, 4, 3,\n",
    "7, 3, 6, 2, 3, 3, 3, 2, 4, 6, 8, 9, 3, 9, 3, 1, 8, 6, 6, 3, 3, 9, 4, 6, 4, 9, 6, 7, 1, 2, 8, 7, 8, 1, 4]"
   ]
  },
  {
   "cell_type": "code",
   "execution_count": 30,
   "id": "72b9ca5e",
   "metadata": {},
   "outputs": [],
   "source": [
    "price = [195, 225, 150, 150, 90, 60, 75, 255, 270, 225, 135, 195, 30, 15, 210, 105, 15, 30,\n",
    "180, 60, 165, 60, 45, 225, 180, 90, 30, 210, 150, 15, 270, 60, 210, 180, 60, 225, 150, 150,\n",
    "120, 195, 75, 240, 60, 45, 30, 180, 240, 285, 135, 165, 180, 240, 60, 105, 165, 240, 120,\n",
    "45, 120, 165, 285, 225, 90, 105, 225, 45, 45, 45, 75, 180, 90, 240, 30, 30, 60, 135, 180,\n",
    "15, 255, 180, 270, 135, 105, 135, 210, 180, 135, 195, 225, 75, 225, 15, 240, 60, 15, 180,\n",
    "255, 90, 15, 150, 230, 150]"
   ]
  },
  {
   "cell_type": "code",
   "execution_count": 34,
   "id": "88d59422",
   "metadata": {},
   "outputs": [
    {
     "name": "stdout",
     "output_type": "stream",
     "text": [
      "There are 102 of different items sold.\n"
     ]
    }
   ],
   "source": [
    "print(f\"There are {len(price)} of different items sold.\")"
   ]
  },
  {
   "cell_type": "code",
   "execution_count": 38,
   "id": "6a1db69e",
   "metadata": {},
   "outputs": [
    {
     "name": "stdout",
     "output_type": "stream",
     "text": [
      "490\n"
     ]
    }
   ],
   "source": [
    "sum=0\n",
    "for i in range(0,len(price)):\n",
    "    sum=sum+number[i]\n",
    "print(sum)"
   ]
  },
  {
   "cell_type": "code",
   "execution_count": 46,
   "id": "3ec8e16b",
   "metadata": {},
   "outputs": [
    {
     "name": "stdout",
     "output_type": "stream",
     "text": [
      "139.01960784313727\n"
     ]
    }
   ],
   "source": [
    "sum=0\n",
    "for i in range(0,len(price)):\n",
    "    sum=sum+price[i]\n",
    "avg=sum/len(price)\n",
    "print(avg)"
   ]
  },
  {
   "cell_type": "code",
   "execution_count": 41,
   "id": "9a12f018",
   "metadata": {},
   "outputs": [
    {
     "data": {
      "text/plain": [
       "285"
      ]
     },
     "execution_count": 41,
     "metadata": {},
     "output_type": "execute_result"
    }
   ],
   "source": [
    "max(price)"
   ]
  },
  {
   "cell_type": "code",
   "execution_count": 43,
   "id": "c84bdbfe",
   "metadata": {},
   "outputs": [
    {
     "data": {
      "text/plain": [
       "67100"
      ]
     },
     "execution_count": 43,
     "metadata": {},
     "output_type": "execute_result"
    }
   ],
   "source": [
    "total=0\n",
    "for i in range(0,len(price)):\n",
    "    total=total+number[i]*price[i]\n",
    "total"
   ]
  },
  {
   "cell_type": "code",
   "execution_count": 48,
   "id": "e9967847",
   "metadata": {},
   "outputs": [
    {
     "name": "stdout",
     "output_type": "stream",
     "text": [
      "The demand of 20th product is more than 50\n"
     ]
    }
   ],
   "source": [
    "def demand(i,j):\n",
    "    if(number[i-1]>number[j-1]):\n",
    "        print(f\"The demand of {i}th product is more than {j}\")\n",
    "    else:\n",
    "        print(f\"The demand of {j} is more than {i}\")\n",
    "demand(20,50)"
   ]
  },
  {
   "cell_type": "code",
   "execution_count": 51,
   "id": "8af90324",
   "metadata": {},
   "outputs": [
    {
     "name": "stdout",
     "output_type": "stream",
     "text": [
      "52\n"
     ]
    }
   ],
   "source": [
    "count=0\n",
    "for i in range(0,len(price)):\n",
    "    if(price[i]>avg):\n",
    "        count=count+1\n",
    "print(count)"
   ]
  },
  {
   "cell_type": "code",
   "execution_count": 53,
   "id": "3a21067f",
   "metadata": {},
   "outputs": [
    {
     "data": {
      "text/plain": [
       "9"
      ]
     },
     "execution_count": 53,
     "metadata": {},
     "output_type": "execute_result"
    }
   ],
   "source": [
    "vowels=[\"a\",\"e\",\"i\",\"o\",\"u\"]\n",
    "count=0\n",
    "\n",
    "res=[\"s\",\"h\",\"r\",\"i\",\"r\",\"a\",\"m\",\"d\",\"e\",\"o\",\"b\",\"a\",\"b\",\"a\",\"c\",\"o\",\"l\",\"l\",\"e\",\"g\",\"e\"]\n",
    "\n",
    "for i in range(0,len(res)):\n",
    "    if res[i] in vowels:\n",
    "        count=count+1\n",
    "count"
   ]
  },
  {
   "cell_type": "code",
   "execution_count": 55,
   "id": "86e6152a",
   "metadata": {},
   "outputs": [
    {
     "ename": "AttributeError",
     "evalue": "'int' object has no attribute 'count'",
     "output_type": "error",
     "traceback": [
      "\u001b[1;31m---------------------------------------------------------------------------\u001b[0m",
      "\u001b[1;31mAttributeError\u001b[0m                            Traceback (most recent call last)",
      "Cell \u001b[1;32mIn[55], line 4\u001b[0m\n\u001b[0;32m      1\u001b[0m demo\u001b[38;5;241m=\u001b[39m[\u001b[38;5;241m2\u001b[39m,\u001b[38;5;241m5\u001b[39m,\u001b[38;5;241m4\u001b[39m,\u001b[38;5;241m3\u001b[39m,\u001b[38;5;241m4\u001b[39m,\u001b[38;5;241m5\u001b[39m,\u001b[38;5;241m6\u001b[39m,\u001b[38;5;241m7\u001b[39m,\u001b[38;5;241m8\u001b[39m,\u001b[38;5;241m9\u001b[39m]\n\u001b[0;32m      3\u001b[0m \u001b[38;5;28;01mfor\u001b[39;00m i \u001b[38;5;129;01min\u001b[39;00m \u001b[38;5;28mrange\u001b[39m(\u001b[38;5;241m0\u001b[39m,\u001b[38;5;28mlen\u001b[39m(demo)):\n\u001b[1;32m----> 4\u001b[0m     \u001b[38;5;28;01mif\u001b[39;00m(\u001b[43mdemo\u001b[49m\u001b[43m[\u001b[49m\u001b[43mi\u001b[49m\u001b[43m]\u001b[49m\u001b[38;5;241;43m.\u001b[39;49m\u001b[43mcount\u001b[49m\u001b[38;5;241m>\u001b[39m\u001b[38;5;241m1\u001b[39m):\n\u001b[0;32m      5\u001b[0m         \u001b[38;5;28mprint\u001b[39m(\u001b[38;5;124mf\u001b[39m\u001b[38;5;124m\"\u001b[39m\u001b[38;5;132;01m{\u001b[39;00mdemo[i]\u001b[38;5;132;01m}\u001b[39;00m\u001b[38;5;124m'\u001b[39m\u001b[38;5;124ms count is \u001b[39m\u001b[38;5;132;01m{\u001b[39;00mdemo[i]\u001b[38;5;241m.\u001b[39mcount\u001b[38;5;132;01m}\u001b[39;00m\u001b[38;5;124m\"\u001b[39m)\n",
      "\u001b[1;31mAttributeError\u001b[0m: 'int' object has no attribute 'count'"
     ]
    }
   ],
   "source": [
    "demo=[2,5,4,3,4,5,6,7,8,9]\n",
    "\n",
    "for i in range(0,len(demo)):\n",
    "    if(demo[i].count>1):\n",
    "        print(f\"{demo[i]}'s count is {demo[i].count}\")"
   ]
  },
  {
   "cell_type": "code",
   "execution_count": null,
   "id": "2b7a8dfd",
   "metadata": {},
   "outputs": [],
   "source": []
  }
 ],
 "metadata": {
  "kernelspec": {
   "display_name": "Python 3 (ipykernel)",
   "language": "python",
   "name": "python3"
  },
  "language_info": {
   "codemirror_mode": {
    "name": "ipython",
    "version": 3
   },
   "file_extension": ".py",
   "mimetype": "text/x-python",
   "name": "python",
   "nbconvert_exporter": "python",
   "pygments_lexer": "ipython3",
   "version": "3.10.9"
  }
 },
 "nbformat": 4,
 "nbformat_minor": 5
}

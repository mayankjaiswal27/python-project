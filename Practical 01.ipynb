{
 "cells": [
  {
   "cell_type": "markdown",
   "id": "3eb334fd",
   "metadata": {},
   "source": [
    "## Name: Mayank Shailendra Jaiswal\n",
    "## Semester: III\n",
    "## Batch and Roll no. : A3-43\n",
    "\n",
    "### Practical 01"
   ]
  },
  {
   "cell_type": "markdown",
   "id": "d90a5032",
   "metadata": {},
   "source": [
    "## (A) Write a python program to find the roots of a quadratic equation entered by the user."
   ]
  },
  {
   "cell_type": "code",
   "execution_count": 27,
   "id": "362b9f91",
   "metadata": {},
   "outputs": [
    {
     "name": "stdout",
     "output_type": "stream",
     "text": [
      "Enter the coefficient of x^2: 1\n",
      "Enter the coefficient of x: 4\n",
      "Enter the coefficient of constant term: 4\n",
      "Entered Equation is 1x^2 + 4x + 4\n",
      "The roots of the entered Quadratic Equation are -2.0 and -2.0\n"
     ]
    }
   ],
   "source": [
    "import math\n",
    "a=int(input(\"Enter the coefficient of x^2: \"))\n",
    "b=int(input(\"Enter the coefficient of x: \"))\n",
    "c=int(input(\"Enter the coefficient of constant term: \"))\n",
    "print(f\"Entered Equation is {a}x^2 + {b}x + {c}\")\n",
    "D=b*b-4*a*c\n",
    "if(D>=0):\n",
    "    r1= (-b + math.sqrt(b*b-4*a*c))/2*a\n",
    "    r2= (-b - math.sqrt(b*b-4*a*c))/2*a\n",
    "    print(f\"The roots of the entered Quadratic Equation are {r1} and {r2}\")\n",
    "else:\n",
    "    print(f\"Roots are imaginary\")\n",
    "    "
   ]
  },
  {
   "cell_type": "markdown",
   "id": "2cc0ceed",
   "metadata": {},
   "source": [
    "## (B) Write a python program to calculate Manhattan distance between two points A(x1,y1) and B(x2,y2)"
   ]
  },
  {
   "cell_type": "code",
   "execution_count": 21,
   "id": "b72a5656",
   "metadata": {},
   "outputs": [
    {
     "name": "stdout",
     "output_type": "stream",
     "text": [
      "Enter the x-co-ordinate of point A: 10\n",
      "Enter the y-co-ordinate of point A: 15\n",
      "Enter the x-co-ordinate of point B: 20\n",
      "Enter the y-co-ordinate of point B: 25\n",
      "The Manhattan Distance between point A (10.0,15.0) and point B (20.0,25.0) is 20.0\n"
     ]
    }
   ],
   "source": [
    "x1=float(input(\"Enter the x-co-ordinate of point A: \"))\n",
    "y1=float(input(\"Enter the y-co-ordinate of point A: \"))\n",
    "x2=float(input(\"Enter the x-co-ordinate of point B: \"))\n",
    "y2=float(input(\"Enter the y-co-ordinate of point B: \"))\n",
    "\n",
    "D=abs(x1-x2)+abs(y1-y2)\n",
    "\n",
    "print(f\"The Manhattan Distance between point A ({x1},{y1}) and point B ({x2},{y2}) is {D}\")"
   ]
  },
  {
   "cell_type": "markdown",
   "id": "1beae9d1",
   "metadata": {},
   "source": [
    "## (C)  Write a python program to generate report card of a student. Accept from user: name of student, marks in 3 subject. Generate percentage and add incentive of 0.5% on the percentage and compute final percentage."
   ]
  },
  {
   "cell_type": "code",
   "execution_count": 4,
   "id": "8b11cbf7",
   "metadata": {},
   "outputs": [
    {
     "name": "stdout",
     "output_type": "stream",
     "text": [
      "Enter the name of the student: Mayank\n",
      "Enter the marks scored in Maths: 99.6\n",
      "Enter the marks scored in English: 99.6\n",
      "Enter the marks scored in Science: 99.6\n",
      "**********************SCORE CARD***********************\n",
      "Name: Mayank\n",
      "*****************************************************\n",
      "Maths: 99.6\n",
      "English: 99.6\n",
      "Science: 99.6\n",
      "*****************************************************\n",
      "Total: 298.79999999999995 (out of 300)\n",
      "Percentage: 99.59999999999998%\n",
      "*****************************************************\n",
      "Incentive (+0.5%)\n",
      "Final Percentage: 100%\n"
     ]
    }
   ],
   "source": [
    "name=input(\"Enter the name of the student: \")\n",
    "maths=float(input(\"Enter the marks scored in Maths: \"))\n",
    "english=float(input(\"Enter the marks scored in English: \"))\n",
    "science=float(input(\"Enter the marks scored in Science: \"))\n",
    "\n",
    "total=float(maths+english+science)\n",
    "percentage=total/3\n",
    "\n",
    "if(percentage>=99.5):\n",
    "    final_percentage=100\n",
    "else:\n",
    "    final_percentage=percentage+0.5\n",
    "    \n",
    "    \n",
    "\n",
    "print(\"**********************SCORE CARD***********************\")\n",
    "print(f\"Name: {name}\")\n",
    "print(\"*****************************************************\")\n",
    "print(f\"Maths: {maths}\")\n",
    "print(f\"English: {english}\")\n",
    "print(f\"Science: {science}\")\n",
    "print(\"*****************************************************\")\n",
    "print(f\"Total: {total} (out of 300)\")\n",
    "print(f\"Percentage: {percentage}%\")\n",
    "print(\"*****************************************************\")\n",
    "print(\"Incentive (+0.5%)\")\n",
    "print(f\"Final Percentage: {final_percentage}%\")"
   ]
  },
  {
   "cell_type": "markdown",
   "id": "ab57adcb",
   "metadata": {},
   "source": [
    "## D) Write a python program to find the sum of series: \n",
    "## 1+ x^2/2 + x^3/3 + … x^n/n.."
   ]
  },
  {
   "cell_type": "code",
   "execution_count": 21,
   "id": "7d90878f",
   "metadata": {},
   "outputs": [
    {
     "name": "stdout",
     "output_type": "stream",
     "text": [
      "Enter the value of x: 1\n",
      "Enter the value of n: 2\n",
      "The sum of the series is: 1.5\n"
     ]
    }
   ],
   "source": [
    "def series_sum(x, n):\n",
    "    sum = 1\n",
    "    for i in range(2, n + 1):\n",
    "        term = x**i/i\n",
    "        sum += term\n",
    "    return sum\n",
    "\n",
    "x = float(input(\"Enter the value of x: \"))\n",
    "n = int(input(\"Enter the value of n: \"))\n",
    "\n",
    "final_result = series_sum(x, n)\n",
    "print(f\"The sum of the series is: {final_result}\")\n",
    "\n",
    "      "
   ]
  }
 ],
 "metadata": {
  "kernelspec": {
   "display_name": "Python 3 (ipykernel)",
   "language": "python",
   "name": "python3"
  },
  "language_info": {
   "codemirror_mode": {
    "name": "ipython",
    "version": 3
   },
   "file_extension": ".py",
   "mimetype": "text/x-python",
   "name": "python",
   "nbconvert_exporter": "python",
   "pygments_lexer": "ipython3",
   "version": "3.10.9"
  }
 },
 "nbformat": 4,
 "nbformat_minor": 5
}

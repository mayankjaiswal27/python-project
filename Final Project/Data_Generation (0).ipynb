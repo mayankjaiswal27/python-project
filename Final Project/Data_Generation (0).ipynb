{
 "cells": [
  {
   "cell_type": "markdown",
   "id": "c13e1fb7",
   "metadata": {},
   "source": [
    "### Data Generation"
   ]
  },
  {
   "cell_type": "code",
   "execution_count": 1,
   "id": "71f3e072",
   "metadata": {},
   "outputs": [
    {
     "name": "stdout",
     "output_type": "stream",
     "text": [
      "Generated Dataset:\n",
      "         Location  Area  Type of Land  Distance to City Center Market Trends  \\\n",
      "0    Manish Nagar  4771    Commercial                   2.6481        Stable   \n",
      "1     Gittikhadan  1720    Commercial                   8.9681        Upward   \n",
      "2  Friends Colony  1037  Agricultural                   1.3023        Upward   \n",
      "3      Dharampeth  3050  Agricultural                  11.0275        Stable   \n",
      "4     Civil Lines  4807    Industrial                  17.5072        Upward   \n",
      "5        Manewada  1419  Agricultural                   7.2859        Stable   \n",
      "6      Chatrapati  1872    Industrial                   8.4659        Upward   \n",
      "7            Besa  3757    Industrial                  13.8123      Downward   \n",
      "8   Shankar Nagar  3083    Commercial                  13.7740        Upward   \n",
      "9       Nandanvan  4156  Agricultural                  14.1866        Stable   \n",
      "\n",
      "  Zoning Regulations Neighborhood Amenities  Crime Rate    Price  \n",
      "0       High Density        Shopping Center      6.1536  2385500  \n",
      "1       High Density                   Park      3.4844   860000  \n",
      "2        Low Density                 School      5.0756   518500  \n",
      "3       High Density                 School      4.1768  1525000  \n",
      "4     Medium Density                 School      6.9166  2403500  \n",
      "5        Low Density        Shopping Center      4.3332   709500  \n",
      "6        Low Density                   Park      5.1318   936000  \n",
      "7     Medium Density                 School      7.4739  1878500  \n",
      "8        Low Density                   Park      4.7169  1541500  \n",
      "9        Low Density                 School      9.1578  2078000  \n"
     ]
    }
   ],
   "source": [
    "import numpy as np\n",
    "import pandas as pd\n",
    "np.random.seed(7)\n",
    "locations = ['Manish Nagar', 'Gittikhadan', 'Friends Colony', 'Dharampeth', 'Civil Lines', 'Manewada', 'Chatrapati', 'Besa', 'Shankar Nagar', 'Nandanvan']\n",
    "\n",
    "areas = np.random.randint(500, 5000, size=len(locations))\n",
    "\n",
    "land_types = ['Residential', 'Commercial', 'Industrial', 'Agricultural']\n",
    "\n",
    "distances_to_city_center = np.random.uniform(1, 20, size=len(locations))\n",
    "\n",
    "market_trends = np.random.choice(['Upward', 'Stable', 'Downward'], size=len(locations))\n",
    "\n",
    "zoning_regulations = np.random.choice(['Low Density', 'Medium Density', 'High Density'], size=len(locations))\n",
    "\n",
    "neighborhood_amenities = np.random.choice(['School', 'Park', 'Shopping Center'], size=len(locations))\n",
    "\n",
    "crime_rates = np.random.uniform(1, 10, size=len(locations))\n",
    "\n",
    "price=500*areas\n",
    "\n",
    "land_price_data = pd.DataFrame({\n",
    "    \n",
    "    'Location': locations,\n",
    "    \n",
    "    'Area': areas,\n",
    "    \n",
    "    'Type of Land': np.random.choice(land_types, size=len(locations)),\n",
    "    \n",
    "    'Distance to City Center': np.round(distances_to_city_center, 4),\n",
    "    \n",
    "    'Market Trends': market_trends,\n",
    "    \n",
    "    'Zoning Regulations': zoning_regulations,\n",
    "    \n",
    "    'Neighborhood Amenities': neighborhood_amenities,\n",
    "    \n",
    "    'Crime Rate': np.round(crime_rates, 4),\n",
    "    \n",
    "    'Price':price,\n",
    "    \n",
    "})\n",
    "land_price_data.to_csv('model.csv', index=False)\n",
    "print('Generated Dataset:')\n",
    "print(land_price_data)"
   ]
  },
  {
   "cell_type": "code",
   "execution_count": null,
   "id": "567688f4",
   "metadata": {},
   "outputs": [],
   "source": []
  }
 ],
 "metadata": {
  "kernelspec": {
   "display_name": "Python 3 (ipykernel)",
   "language": "python",
   "name": "python3"
  },
  "language_info": {
   "codemirror_mode": {
    "name": "ipython",
    "version": 3
   },
   "file_extension": ".py",
   "mimetype": "text/x-python",
   "name": "python",
   "nbconvert_exporter": "python",
   "pygments_lexer": "ipython3",
   "version": "3.11.5"
  }
 },
 "nbformat": 4,
 "nbformat_minor": 5
}
